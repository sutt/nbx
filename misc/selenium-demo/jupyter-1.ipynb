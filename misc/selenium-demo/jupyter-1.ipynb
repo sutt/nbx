{
 "cells": [
  {
   "cell_type": "code",
   "execution_count": 2,
   "id": "83ca875a",
   "metadata": {},
   "outputs": [],
   "source": [
    "from selenium import webdriver\n",
    "from selenium.webdriver.common.keys import Keys"
   ]
  },
  {
   "cell_type": "code",
   "execution_count": 3,
   "id": "b3e7fc8b",
   "metadata": {},
   "outputs": [],
   "source": [
    "driver = webdriver.Chrome()"
   ]
  },
  {
   "cell_type": "code",
   "execution_count": 5,
   "id": "a8baf2d0",
   "metadata": {},
   "outputs": [],
   "source": [
    "# url = 'http://localhost:9200/tree?'\n",
    "url = 'http://localhost:9200/notebooks/book1.ipynb'\n",
    "driver.get(url)"
   ]
  },
  {
   "cell_type": "code",
   "execution_count": 21,
   "id": "3f3207b7",
   "metadata": {},
   "outputs": [],
   "source": [
    "class_name = \"code_cell\"\n",
    "elems = driver.find_elements_by_class_name(class_name)"
   ]
  },
  {
   "cell_type": "code",
   "execution_count": 14,
   "id": "6001e0b5",
   "metadata": {},
   "outputs": [],
   "source": [
    "from selenium.webdriver import ActionChains\n",
    "action = ActionChains(driver)"
   ]
  },
  {
   "cell_type": "code",
   "execution_count": 51,
   "id": "b158d2c2",
   "metadata": {},
   "outputs": [],
   "source": [
    "cell_num = 1\n",
    "cell_1 = elems[cell_num]"
   ]
  },
  {
   "cell_type": "code",
   "execution_count": 91,
   "id": "e584ea9d",
   "metadata": {},
   "outputs": [],
   "source": [
    "inner_class = \"input_area\"\n",
    "inner = cell_1.find_element_by_class_name(inner_class)\n",
    "inner.click()"
   ]
  },
  {
   "cell_type": "code",
   "execution_count": 92,
   "id": "c3b9f2c7",
   "metadata": {},
   "outputs": [],
   "source": [
    "action = ActionChains(driver)\n",
    "action.send_keys(\"ssss\")\n",
    "action.perform()"
   ]
  },
  {
   "cell_type": "code",
   "execution_count": 73,
   "id": "5abdd072",
   "metadata": {},
   "outputs": [],
   "source": [
    "run_class_name = \"run_this_cell\"\n",
    "run_button = cell_1.find_element_by_class_name(run_class_name)\n",
    "run_button.click()"
   ]
  },
  {
   "cell_type": "code",
   "execution_count": 71,
   "id": "0be91fc8",
   "metadata": {},
   "outputs": [
    {
     "data": {
      "text/plain": [
       "'import random\\nprint(random.randint(0,1e6))'"
      ]
     },
     "execution_count": 71,
     "metadata": {},
     "output_type": "execute_result"
    }
   ],
   "source": [
    "code_class_name = \"CodeMirror-code\"\n",
    "mirror = cell_1.find_element_by_class_name(code_class_name)\n",
    "mirror.text"
   ]
  },
  {
   "cell_type": "code",
   "execution_count": 74,
   "id": "1fc5e8cb",
   "metadata": {},
   "outputs": [
    {
     "data": {
      "text/plain": [
       "'224867'"
      ]
     },
     "execution_count": 74,
     "metadata": {},
     "output_type": "execute_result"
    }
   ],
   "source": [
    "output_class_name = \"output_subarea\"\n",
    "output_elem = cell_1.find_element_by_class_name(output_class_name)\n",
    "output_elem.text"
   ]
  },
  {
   "cell_type": "code",
   "execution_count": null,
   "id": "2c7d8ea8",
   "metadata": {},
   "outputs": [],
   "source": []
  },
  {
   "cell_type": "code",
   "execution_count": 1,
   "id": "9b4fbe44",
   "metadata": {},
   "outputs": [],
   "source": []
  },
  {
   "cell_type": "code",
   "execution_count": null,
   "id": "e96d4b92",
   "metadata": {},
   "outputs": [],
   "source": []
  }
 ],
 "metadata": {
  "kernelspec": {
   "display_name": "py3 nbx test venv",
   "language": "python",
   "name": "venvtest1"
  },
  "language_info": {
   "codemirror_mode": {
    "name": "ipython",
    "version": 3
   },
   "file_extension": ".py",
   "mimetype": "text/x-python",
   "name": "python",
   "nbconvert_exporter": "python",
   "pygments_lexer": "ipython3",
   "version": "3.7.2"
  }
 },
 "nbformat": 4,
 "nbformat_minor": 5
}
