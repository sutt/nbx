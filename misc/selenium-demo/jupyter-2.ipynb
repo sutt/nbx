{
 "cells": [
  {
   "cell_type": "code",
   "execution_count": 1,
   "id": "a705cafa",
   "metadata": {},
   "outputs": [],
   "source": [
    "from selenium import webdriver\n",
    "from selenium.webdriver.common.keys import Keys\n",
    "from selenium.webdriver import ActionChains\n",
    "import time"
   ]
  },
  {
   "cell_type": "code",
   "execution_count": 2,
   "id": "34e2bd97",
   "metadata": {},
   "outputs": [],
   "source": [
    "teacher_driver = webdriver.Chrome()\n",
    "student_driver = webdriver.Chrome()\n",
    "\n",
    "teacher_url = 'http://localhost:9200/tree?'\n",
    "student_url = 'http://localhost:9201/tree?'\n",
    "\n",
    "teacher_driver.get(teacher_url)\n",
    "student_driver.get(student_url)\n",
    "\n",
    "time.sleep(2)"
   ]
  },
  {
   "cell_type": "code",
   "execution_count": 3,
   "id": "891642ff",
   "metadata": {},
   "outputs": [
    {
     "name": "stdout",
     "output_type": "stream",
     "text": [
      "0\n",
      "0\n"
     ]
    }
   ],
   "source": [
    "nb_name = \"book1.ipynb\"\n",
    "\n",
    "for driver in (teacher_driver, student_driver):\n",
    "    \n",
    "    links = driver.find_elements_by_class_name(\n",
    "                        \"item_link\"\n",
    "                    )\n",
    "\n",
    "    ind_book = [ i \n",
    "                 for i, link in enumerate(links) \n",
    "                 if link.text == nb_name\n",
    "               ][0]\n",
    "\n",
    "    print(ind_book)\n",
    "\n",
    "    nb_link = links[ind_book]\n",
    "\n",
    "    nb_link.click()\n",
    "    driver.quit()"
   ]
  },
  {
   "cell_type": "code",
   "execution_count": 4,
   "id": "88ce7c9f",
   "metadata": {},
   "outputs": [],
   "source": [
    "teacher_driver = webdriver.Chrome()\n",
    "student_driver = webdriver.Chrome()\n",
    "\n",
    "teacher_url = \"http://localhost:9200/notebooks/\" + nb_name\n",
    "student_url = \"http://localhost:9201/notebooks/\" + nb_name\n",
    "\n",
    "teacher_driver.get(teacher_url)\n",
    "student_driver.get(student_url)\n",
    "\n",
    "time.sleep(5)"
   ]
  },
  {
   "cell_type": "code",
   "execution_count": 13,
   "id": "9a244a17",
   "metadata": {},
   "outputs": [],
   "source": [
    "driver = teacher_driver\n",
    "\n",
    "class_name = \"code_cell\"\n",
    "elems = driver.find_elements_by_class_name(class_name)\n",
    "\n",
    "for i_action, cell_num in enumerate((0,1,2,3,4)):\n",
    "# for i_action, cell_num in enumerate((0,)):\n",
    "    \n",
    "    cell = elems[cell_num]\n",
    "\n",
    "    inner_class = \"input_area\"\n",
    "    inner = cell.find_element_by_class_name(inner_class)\n",
    "    inner.click()\n",
    "    \n",
    "    time.sleep(0.1)\n",
    "    \n",
    "    if cell_num == 4:\n",
    "        \n",
    "        action = ActionChains(driver)\n",
    "        action.send_keys(\"nbx2.send_answer()\")\n",
    "        action.perform()\n",
    "        \n",
    "        time.sleep(0.3)\n",
    "\n",
    "\n",
    "    action = ActionChains(driver)\n",
    "    action.key_down(Keys.SHIFT)\n",
    "    action.send_keys(Keys.ENTER)\n",
    "#     action.perform()    \n",
    "    \n",
    "    action.key_up(Keys.SHIFT)\n",
    "    action.perform()    \n",
    "    \n",
    "    time.sleep(0.3)"
   ]
  },
  {
   "cell_type": "code",
   "execution_count": 14,
   "id": "307d765d",
   "metadata": {},
   "outputs": [],
   "source": [
    "driver = student_driver\n",
    "\n",
    "class_name = \"code_cell\"\n",
    "elems = driver.find_elements_by_class_name(class_name)\n",
    "\n",
    "for i_action, cell_num in enumerate((0,1,2,3)):\n",
    "# for i_action, cell_num in enumerate((0,)):\n",
    "    \n",
    "    cell = elems[cell_num]\n",
    "\n",
    "    inner_class = \"input_area\"\n",
    "    inner = cell.find_element_by_class_name(inner_class)\n",
    "    inner.click()\n",
    "    \n",
    "    time.sleep(0.1)\n",
    "    \n",
    "    if cell_num == 3:\n",
    "        \n",
    "        action = ActionChains(driver)\n",
    "        action.send_keys(\"nbx2.receive_answer()\")\n",
    "        action.perform()\n",
    "        \n",
    "        time.sleep(0.3)\n",
    "\n",
    "\n",
    "    action = ActionChains(driver)\n",
    "    action.key_down(Keys.SHIFT)\n",
    "    action.send_keys(Keys.ENTER)\n",
    "#     action.perform()    \n",
    "    \n",
    "    action.key_up(Keys.SHIFT)\n",
    "    action.perform()    \n",
    "    \n",
    "    time.sleep(0.3)"
   ]
  },
  {
   "cell_type": "code",
   "execution_count": null,
   "id": "459ec134",
   "metadata": {},
   "outputs": [],
   "source": [
    "\n",
    "#     run_class_name = \"run_this_cell\"\n",
    "#     run_button = cell.find_element_by_class_name(run_class_name)\n",
    "#     run_button.click()"
   ]
  },
  {
   "cell_type": "code",
   "execution_count": 8,
   "id": "f1781b14",
   "metadata": {},
   "outputs": [],
   "source": [
    "driver = teacher_driver\n",
    "\n",
    "class_name = \"code_cell\"\n",
    "elems = driver.find_elements_by_class_name(class_name)\n",
    "    \n",
    "cell_num = 1\n",
    "cell = elems[cell_num]\n",
    "\n",
    "inner_class = \"input_area\"\n",
    "inner = cell.find_element_by_class_name(inner_class)\n",
    "inner.click()"
   ]
  },
  {
   "cell_type": "code",
   "execution_count": null,
   "id": "0e7ba00a",
   "metadata": {},
   "outputs": [],
   "source": []
  },
  {
   "cell_type": "code",
   "execution_count": 68,
   "id": "45546587",
   "metadata": {},
   "outputs": [
    {
     "data": {
      "text/plain": [
       "'nbx2.send_answer()'"
      ]
     },
     "execution_count": 68,
     "metadata": {},
     "output_type": "execute_result"
    }
   ],
   "source": [
    "code_class_name = \"CodeMirror-code\"\n",
    "mirror = cell_1.find_element_by_class_name(code_class_name)\n",
    "mirror.text"
   ]
  },
  {
   "cell_type": "code",
   "execution_count": 81,
   "id": "79ac25cf",
   "metadata": {},
   "outputs": [
    {
     "data": {
      "text/plain": [
       "['', 'send_answer done.']"
      ]
     },
     "execution_count": 81,
     "metadata": {},
     "output_type": "execute_result"
    }
   ],
   "source": []
  },
  {
   "cell_type": "code",
   "execution_count": 71,
   "id": "caaa03f7",
   "metadata": {},
   "outputs": [
    {
     "data": {
      "text/plain": [
       "''"
      ]
     },
     "execution_count": 71,
     "metadata": {},
     "output_type": "execute_result"
    }
   ],
   "source": [
    "output_class_name = \"output_subarea\"\n",
    "output_elem = cell_1.find_element_by_class_name(output_class_name)\n",
    "output_elem.text"
   ]
  },
  {
   "cell_type": "code",
   "execution_count": 83,
   "id": "1ecf4150",
   "metadata": {},
   "outputs": [
    {
     "data": {
      "text/plain": [
       "['', 'send_answer done.']"
      ]
     },
     "execution_count": 83,
     "metadata": {},
     "output_type": "execute_result"
    }
   ],
   "source": [
    "output_class_name = \"output_subarea\"\n",
    "output_elem = cell_1.find_elements_by_class_name(output_class_name)\n",
    "[elem.text for elem in output_elem]"
   ]
  },
  {
   "cell_type": "code",
   "execution_count": null,
   "id": "dcdfed47",
   "metadata": {},
   "outputs": [],
   "source": []
  }
 ],
 "metadata": {
  "kernelspec": {
   "display_name": "py3 nbx test venv",
   "language": "python",
   "name": "venvtest1"
  },
  "language_info": {
   "codemirror_mode": {
    "name": "ipython",
    "version": 3
   },
   "file_extension": ".py",
   "mimetype": "text/x-python",
   "name": "python",
   "nbconvert_exporter": "python",
   "pygments_lexer": "ipython3",
   "version": "3.7.2"
  }
 },
 "nbformat": 4,
 "nbformat_minor": 5
}
