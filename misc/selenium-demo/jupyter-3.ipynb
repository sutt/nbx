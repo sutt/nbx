{
 "cells": [
  {
   "cell_type": "code",
   "execution_count": 1,
   "id": "72477260",
   "metadata": {},
   "outputs": [],
   "source": [
    "from selenium import webdriver\n",
    "from selenium.webdriver.common.keys import Keys\n",
    "from selenium.webdriver import ActionChains\n",
    "import time"
   ]
  },
  {
   "cell_type": "code",
   "execution_count": 2,
   "id": "2e1fd605",
   "metadata": {},
   "outputs": [],
   "source": [
    "teacher_driver = webdriver.Chrome()\n",
    "student_driver = webdriver.Chrome()\n",
    "\n",
    "teacher_url = 'http://localhost:9200/tree?'\n",
    "student_url = 'http://localhost:9201/tree?'\n",
    "\n",
    "teacher_driver.get(teacher_url)\n",
    "student_driver.get(student_url)\n",
    "\n",
    "time.sleep(2)"
   ]
  },
  {
   "cell_type": "code",
   "execution_count": 3,
   "id": "c3ab7d41",
   "metadata": {},
   "outputs": [
    {
     "name": "stdout",
     "output_type": "stream",
     "text": [
      "0\n",
      "0\n"
     ]
    }
   ],
   "source": [
    "nb_name = \"book1.ipynb\"\n",
    "\n",
    "for driver in (teacher_driver, student_driver):\n",
    "    \n",
    "    links = driver.find_elements_by_class_name(\n",
    "                        \"item_link\"\n",
    "                    )\n",
    "\n",
    "    ind_book = [ i \n",
    "                 for i, link in enumerate(links) \n",
    "                 if link.text == nb_name\n",
    "               ][0]\n",
    "\n",
    "    print(ind_book)\n",
    "\n",
    "    nb_link = links[ind_book]\n",
    "\n",
    "    nb_link.click()\n",
    "    driver.quit()"
   ]
  },
  {
   "cell_type": "code",
   "execution_count": 4,
   "id": "bdb78bf6",
   "metadata": {},
   "outputs": [],
   "source": [
    "teacher_driver = webdriver.Chrome()\n",
    "student_driver = webdriver.Chrome()\n",
    "\n",
    "teacher_url = \"http://localhost:9200/notebooks/\" + nb_name\n",
    "student_url = \"http://localhost:9201/notebooks/\" + nb_name\n",
    "\n",
    "teacher_driver.get(teacher_url)\n",
    "student_driver.get(student_url)\n",
    "\n",
    "time.sleep(5)"
   ]
  },
  {
   "cell_type": "code",
   "execution_count": 5,
   "id": "44ef6cd8",
   "metadata": {},
   "outputs": [],
   "source": [
    "driver = teacher_driver\n",
    "\n",
    "class_name = \"code_cell\"\n",
    "# elems = driver.find_elements_by_class_name(class_name)\n",
    "\n",
    "for i_action, cell_num in enumerate((0,1,2,3,4)):\n",
    "# for i_action, cell_num in enumerate((0,)):\n",
    "    \n",
    "    elems = driver.find_elements_by_class_name(class_name)\n",
    "    cell = elems[cell_num]\n",
    "\n",
    "    inner_class = \"input_area\"\n",
    "    inner = cell.find_element_by_class_name(inner_class)\n",
    "    inner.click()\n",
    "    \n",
    "    time.sleep(0.1)\n",
    "    \n",
    "    if cell_num == 3:\n",
    "        \n",
    "        action = ActionChains(driver)\n",
    "        action.send_keys(\"import random;random.randint(0,1e6)\")\n",
    "        action.perform()\n",
    "        \n",
    "        time.sleep(0.3)\n",
    "        \n",
    "    if cell_num == 4:\n",
    "        \n",
    "        action = ActionChains(driver)\n",
    "        action.send_keys(\"nbx2.send_answer()\")\n",
    "        action.perform()\n",
    "        \n",
    "        time.sleep(0.3)\n",
    "\n",
    "\n",
    "    action = ActionChains(driver)\n",
    "    action.key_down(Keys.SHIFT)\n",
    "    action.send_keys(Keys.ENTER)\n",
    "#     action.perform()    \n",
    "    \n",
    "    action.key_up(Keys.SHIFT)\n",
    "    action.perform()    \n",
    "    \n",
    "    time.sleep(0.3)"
   ]
  },
  {
   "cell_type": "code",
   "execution_count": 9,
   "id": "0681fc70",
   "metadata": {},
   "outputs": [],
   "source": [
    "driver = student_driver\n",
    "\n",
    "class_name = \"code_cell\"\n",
    "\n",
    "for i_action, cell_num in enumerate((0,1,2,3)):\n",
    "    \n",
    "    elems = driver.find_elements_by_class_name(class_name)\n",
    "    \n",
    "    cell = elems[cell_num]\n",
    "\n",
    "    inner_class = \"input_area\"\n",
    "    inner = cell.find_element_by_class_name(inner_class)\n",
    "    inner.click()\n",
    "    \n",
    "    time.sleep(0.1)\n",
    "    \n",
    "    if cell_num == 3:\n",
    "        \n",
    "        action = ActionChains(driver)\n",
    "        action.send_keys(\"nbx2.receive_answer()\")\n",
    "        action.perform()\n",
    "        \n",
    "        time.sleep(0.3)\n",
    "\n",
    "\n",
    "    action = ActionChains(driver)\n",
    "    action.key_down(Keys.SHIFT)\n",
    "    action.send_keys(Keys.ENTER)\n",
    "    \n",
    "    action.key_up(Keys.SHIFT)\n",
    "    action.perform()    \n",
    "    \n",
    "    time.sleep(0.3)"
   ]
  },
  {
   "cell_type": "code",
   "execution_count": null,
   "id": "1462d696",
   "metadata": {},
   "outputs": [],
   "source": []
  }
 ],
 "metadata": {
  "kernelspec": {
   "display_name": "py3 nbx test venv",
   "language": "python",
   "name": "venvtest1"
  },
  "language_info": {
   "codemirror_mode": {
    "name": "ipython",
    "version": 3
   },
   "file_extension": ".py",
   "mimetype": "text/x-python",
   "name": "python",
   "nbconvert_exporter": "python",
   "pygments_lexer": "ipython3",
   "version": "3.7.2"
  }
 },
 "nbformat": 4,
 "nbformat_minor": 5
}
