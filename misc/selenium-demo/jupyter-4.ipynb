{
 "cells": [
  {
   "cell_type": "code",
   "execution_count": 1,
   "id": "72477260",
   "metadata": {},
   "outputs": [],
   "source": [
    "from selenium import webdriver\n",
    "from selenium.webdriver.common.keys import Keys\n",
    "from selenium.webdriver import ActionChains\n",
    "import time"
   ]
  },
  {
   "cell_type": "code",
   "execution_count": 2,
   "id": "af4eb192",
   "metadata": {},
   "outputs": [],
   "source": [
    "nb_name = \"book1.ipynb\""
   ]
  },
  {
   "cell_type": "code",
   "execution_count": 3,
   "id": "bdb78bf6",
   "metadata": {},
   "outputs": [],
   "source": [
    "teacher_driver = webdriver.Chrome()\n",
    "student_driver = webdriver.Chrome()\n",
    "\n",
    "teacher_url = \"http://localhost:9200/notebooks/\" + nb_name\n",
    "student_url = \"http://localhost:9201/notebooks/\" + nb_name\n",
    "\n",
    "teacher_driver.get(teacher_url)\n",
    "student_driver.get(student_url)\n",
    "\n",
    "time.sleep(5)"
   ]
  },
  {
   "cell_type": "code",
   "execution_count": 19,
   "id": "8ea96542",
   "metadata": {},
   "outputs": [],
   "source": [
    "def get_cell_outputs(cell):\n",
    "    output_class_name = \"output_subarea\"\n",
    "    output_elem = cell.find_elements_by_class_name(output_class_name)\n",
    "    outputs = [elem.text for elem in output_elem]\n",
    "    return outputs\n",
    "\n",
    "def check_outputs_for_term(outputs, term):\n",
    "    tmp = [output.find(term) > -1 for output in outputs]\n",
    "    return any(tmp)\n",
    "\n",
    "def flatten_outputs(outputs):\n",
    "    tmp = ''\n",
    "    for output in outputs:\n",
    "        tmp += str(output)\n",
    "    return tmp"
   ]
  },
  {
   "cell_type": "code",
   "execution_count": 20,
   "id": "8d1bd5c1",
   "metadata": {},
   "outputs": [],
   "source": [
    "ERR_MSGS = []"
   ]
  },
  {
   "cell_type": "code",
   "execution_count": 28,
   "id": "44ef6cd8",
   "metadata": {},
   "outputs": [],
   "source": [
    "driver = teacher_driver\n",
    "\n",
    "class_name = \"code_cell\"\n",
    "# elems = driver.find_elements_by_class_name(class_name)\n",
    "\n",
    "for i_action, cell_num in enumerate((0,1,2)):\n",
    "    \n",
    "    elems = driver.find_elements_by_class_name(class_name)\n",
    "    cell = elems[cell_num]\n",
    "\n",
    "    inner_class = \"input_area\"\n",
    "    inner = cell.find_element_by_class_name(inner_class)\n",
    "    inner.click()\n",
    "    \n",
    "    time.sleep(0.1)\n",
    "    \n",
    "    if cell_num == 1:        \n",
    "        outputs_0 = get_cell_outputs(cell)\n",
    "\n",
    "    action = ActionChains(driver)\n",
    "    action.key_down(Keys.SHIFT)\n",
    "    action.send_keys(Keys.ENTER)\n",
    "    action.key_up(Keys.SHIFT)\n",
    "    action.perform()    \n",
    "    \n",
    "    time.sleep(0.3)\n",
    "                                    \n",
    "    if cell_num == 1:        \n",
    "        outputs_1 = get_cell_outputs(cell)\n",
    "                                    \n",
    "        if outputs_0 == outputs_1:\n",
    "            ERR_MSGS.append(\"BAD JUPYTER ACTION: teacher nb test cell not executed\")\n",
    "                                    \n",
    "    if cell_num == 2:\n",
    "        outputs_2 = get_cell_outputs(cell)\n",
    "        \n",
    "        if not(check_outputs_for_term(outputs_2, \"send_answer done.\")):\n",
    "            ERR_MSGS.append(\"BAD JUPYTER ACTION: teacher nb send_answer cell has wrong output\")"
   ]
  },
  {
   "cell_type": "code",
   "execution_count": 29,
   "id": "52c25e0d",
   "metadata": {},
   "outputs": [
    {
     "data": {
      "text/plain": [
       "['651906']"
      ]
     },
     "execution_count": 29,
     "metadata": {},
     "output_type": "execute_result"
    }
   ],
   "source": [
    "outputs_1"
   ]
  },
  {
   "cell_type": "code",
   "execution_count": 30,
   "id": "6d9a25e9",
   "metadata": {},
   "outputs": [
    {
     "data": {
      "text/plain": [
       "['', 'send_answer done.']"
      ]
     },
     "execution_count": 30,
     "metadata": {},
     "output_type": "execute_result"
    }
   ],
   "source": [
    "outputs_2"
   ]
  },
  {
   "cell_type": "code",
   "execution_count": 31,
   "id": "9970717c",
   "metadata": {},
   "outputs": [
    {
     "data": {
      "text/plain": [
       "['399569']"
      ]
     },
     "execution_count": 31,
     "metadata": {},
     "output_type": "execute_result"
    }
   ],
   "source": [
    "outputs_0"
   ]
  },
  {
   "cell_type": "code",
   "execution_count": 9,
   "id": "0681fc70",
   "metadata": {},
   "outputs": [],
   "source": [
    "driver = student_driver\n",
    "\n",
    "class_name = \"code_cell\"\n",
    "\n",
    "for i_action, cell_num in enumerate((0,1,2,3)):\n",
    "    \n",
    "    elems = driver.find_elements_by_class_name(class_name)\n",
    "    \n",
    "    cell = elems[cell_num]\n",
    "\n",
    "    inner_class = \"input_area\"\n",
    "    inner = cell.find_element_by_class_name(inner_class)\n",
    "    inner.click()\n",
    "    \n",
    "    time.sleep(0.1)\n",
    "    \n",
    "    if cell_num == 3:\n",
    "        \n",
    "        action = ActionChains(driver)\n",
    "        action.send_keys(\"nbx2.receive_answer()\")\n",
    "        action.perform()\n",
    "        \n",
    "        time.sleep(0.3)\n",
    "\n",
    "\n",
    "    action = ActionChains(driver)\n",
    "    action.key_down(Keys.SHIFT)\n",
    "    action.send_keys(Keys.ENTER)\n",
    "    \n",
    "    action.key_up(Keys.SHIFT)\n",
    "    action.perform()    \n",
    "    \n",
    "    time.sleep(0.3)"
   ]
  },
  {
   "cell_type": "code",
   "execution_count": null,
   "id": "1462d696",
   "metadata": {},
   "outputs": [],
   "source": []
  }
 ],
 "metadata": {
  "kernelspec": {
   "display_name": "py3 nbx test venv",
   "language": "python",
   "name": "venvtest1"
  },
  "language_info": {
   "codemirror_mode": {
    "name": "ipython",
    "version": 3
   },
   "file_extension": ".py",
   "mimetype": "text/x-python",
   "name": "python",
   "nbconvert_exporter": "python",
   "pygments_lexer": "ipython3",
   "version": "3.7.2"
  }
 },
 "nbformat": 4,
 "nbformat_minor": 5
}
