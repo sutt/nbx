{
 "cells": [
  {
   "cell_type": "markdown",
   "metadata": {},
   "source": [
    "## Staging: `copy.lib`\n",
    " - 9000: teacher\n",
    " - 9001: student"
   ]
  },
  {
   "cell_type": "code",
   "execution_count": 1,
   "metadata": {
    "collapsed": true
   },
   "outputs": [],
   "source": [
    "from nbx import nbx2"
   ]
  },
  {
   "cell_type": "markdown",
   "metadata": {},
   "source": [
    "--------------------------"
   ]
  },
  {
   "cell_type": "code",
   "execution_count": 5,
   "metadata": {},
   "outputs": [
    {
     "name": "stdout",
     "output_type": "stream",
     "text": [
      "825240\n"
     ]
    }
   ],
   "source": [
    "import random\n",
    "print(random.randint(0,1e6))"
   ]
  },
  {
   "cell_type": "code",
   "execution_count": 4,
   "metadata": {},
   "outputs": [
    {
     "data": {
      "application/javascript": [
       "\n",
       "Promise.resolve(\n",
       "IPython.notebook.save_notebook(true)\n",
       ").then(function(){\n",
       "return theFinal();\n",
       "}\n",
       ");\n",
       "\n",
       "function theFinal() {\n",
       "\n",
       "var nb_name = IPython.notebook.notebook_name;\n",
       "var cell_index = IPython.notebook.get_selected_index() - 1;\n",
       "\n",
       "var py_cmd = '';\n",
       "py_cmd += 'nbx2.ImportClass.merge_give_answer(\"' + nb_name + '\",' + cell_index + ')';\n",
       "\n",
       "IPython.notebook.kernel.execute(py_cmd);\n",
       "console.log(py_cmd);\n",
       "\n",
       "var py_cmd = '';\n",
       "py_cmd += 'nbx2.ImportClass.gitcomm_push_answer()';\n",
       "\n",
       "IPython.notebook.kernel.execute(py_cmd);\n",
       "console.log(py_cmd);\n",
       "\n",
       "}\n"
      ],
      "text/plain": [
       "<IPython.core.display.Javascript object>"
      ]
     },
     "metadata": {},
     "output_type": "display_data"
    },
    {
     "name": "stdout",
     "output_type": "stream",
     "text": [
      "send_answer done.\n"
     ]
    }
   ],
   "source": [
    "nbx2.send_answer()"
   ]
  },
  {
   "cell_type": "code",
   "execution_count": null,
   "metadata": {},
   "outputs": [],
   "source": []
  }
 ],
 "metadata": {
  "kernelspec": {
   "display_name": "Python 3",
   "language": "python",
   "name": "python3"
  },
  "language_info": {
   "codemirror_mode": {
    "name": "ipython",
    "version": 3
   },
   "file_extension": ".py",
   "mimetype": "text/x-python",
   "name": "python",
   "nbconvert_exporter": "python",
   "pygments_lexer": "ipython3",
   "version": "3.7.2"
  }
 },
 "nbformat": 4,
 "nbformat_minor": 2
}
