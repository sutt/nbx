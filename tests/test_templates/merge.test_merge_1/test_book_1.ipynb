{
 "cells": [
  {
   "cell_type": "code",
   "execution_count": 7,
   "id": "1e43618b",
   "metadata": {},
   "outputs": [],
   "source": [
    "import os, sys\n",
    "sys.path.append('../../../')"
   ]
  },
  {
   "cell_type": "code",
   "execution_count": 8,
   "id": "2bfe61f5",
   "metadata": {},
   "outputs": [],
   "source": [
    "from nbx import nbx"
   ]
  },
  {
   "cell_type": "code",
   "execution_count": 9,
   "id": "b60a4187",
   "metadata": {},
   "outputs": [],
   "source": [
    "## aa"
   ]
  },
  {
   "cell_type": "code",
   "execution_count": 10,
   "id": "3778060b",
   "metadata": {},
   "outputs": [
    {
     "name": "stdout",
     "output_type": "stream",
     "text": [
      "merge.test_merge_1\n",
      "multiline\n"
     ]
    }
   ],
   "source": [
    "print(\"merge.test_merge_1\")\n",
    "\n",
    "print(\"multiline\")"
   ]
  },
  {
   "cell_type": "code",
   "execution_count": 11,
   "id": "9b0513ff",
   "metadata": {},
   "outputs": [
    {
     "data": {
      "application/javascript": [
       "\n",
       "Promise.resolve(\n",
       "IPython.notebook.save_notebook(true)\n",
       ").then(function(){\n",
       "return theFinal();\n",
       "}\n",
       ");\n",
       "\n",
       "function theFinal() {\n",
       "\n",
       "var nb_name = IPython.notebook.notebook_name;\n",
       "\n",
       "var py_cmd = '';\n",
       "py_cmd += 'nbx.ImportClass.merge_give_answer(\"' + nb_name + '\")';\n",
       "\n",
       "IPython.notebook.kernel.execute(py_cmd);\n",
       "console.log(py_cmd);\n",
       "\n",
       "var py_cmd = '';\n",
       "py_cmd += 'nbx.ImportClass.gitcomm_push_answer()';\n",
       "\n",
       "IPython.notebook.kernel.execute(py_cmd);\n",
       "console.log(py_cmd);\n",
       "\n",
       "}\n"
      ],
      "text/plain": [
       "<IPython.core.display.Javascript object>"
      ]
     },
     "metadata": {},
     "output_type": "display_data"
    },
    {
     "name": "stdout",
     "output_type": "stream",
     "text": [
      "send_answer done.\n"
     ]
    }
   ],
   "source": [
    "nbx.send_answer()"
   ]
  },
  {
   "cell_type": "code",
   "execution_count": 12,
   "id": "720dbce7",
   "metadata": {},
   "outputs": [],
   "source": [
    "## bb"
   ]
  },
  {
   "cell_type": "code",
   "execution_count": 13,
   "id": "674a1ce6",
   "metadata": {},
   "outputs": [
    {
     "name": "stdout",
     "output_type": "stream",
     "text": [
      "{\"cells\": [{\"cell_type\": \"code\", \"execution_count\": 10, \"id\": \"d87f3bd9\", \"metadata\": {}, \"outputs\": [{\"name\": \"stdout\", \"output_type\": \"stream\", \"text\": [\"merge.test_merge_1\\n\", \"multiline\\n\"]}], \"source\": [\"print(\\\"merge.test_merge_1\\\")\\n\", \"\\n\", \"print(\\\"multiline\\\")\"]}]}\n"
     ]
    }
   ],
   "source": [
    "!cat .nbx/master.json"
   ]
  },
  {
   "cell_type": "code",
   "execution_count": null,
   "id": "3785e90f",
   "metadata": {},
   "outputs": [],
   "source": []
  }
 ],
 "metadata": {
  "kernelspec": {
   "display_name": "py3 nbx test venv",
   "language": "python",
   "name": "venvtest1"
  },
  "language_info": {
   "codemirror_mode": {
    "name": "ipython",
    "version": 3
   },
   "file_extension": ".py",
   "mimetype": "text/x-python",
   "name": "python",
   "nbconvert_exporter": "python",
   "pygments_lexer": "ipython3",
   "version": "3.7.2"
  }
 },
 "nbformat": 4,
 "nbformat_minor": 5
}
